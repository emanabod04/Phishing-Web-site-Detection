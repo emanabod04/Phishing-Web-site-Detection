{
 "cells": [
  {
   "cell_type": "code",
   "execution_count": 95,
   "metadata": {
    "execution": {
     "iopub.execute_input": "2022-12-04T03:03:41.228155Z",
     "iopub.status.busy": "2022-12-04T03:03:41.227512Z",
     "iopub.status.idle": "2022-12-04T03:03:41.236125Z",
     "shell.execute_reply": "2022-12-04T03:03:41.234715Z",
     "shell.execute_reply.started": "2022-12-04T03:03:41.228102Z"
    },
    "id": "Zfbib1E1MA3R"
   },
   "outputs": [],
   "source": [
    "import pandas as pd\n",
    "import seaborn as sns\n",
    "from wordcloud import WordCloud\n",
    "import matplotlib.pyplot as plt\n",
    "from urllib.parse import urlparse\n",
    "import re\n",
    "from googlesearch import search\n",
    "from sklearn.model_selection import train_test_split\n",
    "from sklearn.metrics import classification_report,confusion_matrix, accuracy_score ,make_scorer, precision_score, recall_score, f1_score\n",
    "from sklearn.neighbors import KNeighborsClassifier\n",
    "import xgboost as xgb\n",
    "from sklearn.model_selection import train_test_split\n",
    "from sklearn.ensemble import RandomForestClassifier\n",
    "from sklearn.datasets import make_classification\n",
    "from sklearn.metrics import classification_report , confusion_matrix\n",
    "import matplotlib.pyplot as plt\n",
    "import seaborn as sns\n",
    "from keras.models import Sequential\n",
    "from keras.layers import Activation, Dense\n",
    "from sklearn.neural_network import MLPClassifier\n",
    "from sklearn.utils import shuffle\n",
    "from math import log\n",
    "from re import compile\n",
    "from urllib.parse import urlparse\n",
    "from socket import gethostbyname\n",
    "from requests import get\n",
    "from json import dump\n",
    "from string import ascii_lowercase\n",
    "from numpy import array\n",
    "import whois\n",
    "from datetime import datetime, timezone\n",
    "import math\n",
    "import pandas as pd\n",
    "from sklearn.model_selection import KFold\n",
    "from pyquery import PyQuery\n",
    "from requests import get\n",
    "import urllib.parse as urlparse\n",
    "from urllib.parse import urlparse,urlencode\n",
    "import ipaddress\n",
    "import re\n",
    "from sklearn.model_selection import train_test_split\n",
    "import xgboost as xgb\n",
    "from xgboost import XGBClassifier\n",
    "from sklearn.ensemble import BaggingClassifier,GradientBoostingClassifier,StackingClassifier,RandomForestClassifier,ExtraTreesClassifier,AdaBoostClassifier,VotingClassifier\n",
    "from sklearn.svm import LinearSVC\n",
    "from sklearn.linear_model import LogisticRegression\n",
    "from sklearn.preprocessing import StandardScaler\n",
    "from sklearn.pipeline import make_pipeline\n",
    "from sklearn.metrics import accuracy_score,classification_report,confusion_matrix, roc_curve,auc\n",
    "import numpy as np\n",
    "from sklearn.model_selection import cross_validate\n",
    "from vecstack import stacking\n",
    "from sklearn.tree import DecisionTreeClassifier\n",
    "from tqdm import tqdm\n",
    "from sklearn.pipeline import Pipeline\n",
    "from sklearn.feature_selection import VarianceThreshold\n",
    "from sklearn.preprocessing import LabelEncoder\n",
    "from sklearn.ensemble import RandomForestClassifier\n",
    "import sklearn.metrics as metrics\n",
    "import warnings\n",
    "warnings.filterwarnings('ignore')"
   ]
  },
  {
   "cell_type": "code",
   "execution_count": 3,
   "metadata": {
    "id": "e0Wf3L882ZJP"
   },
   "outputs": [],
   "source": [
    "final_data=pd.read_csv(\"url_features.csv\")"
   ]
  },
  {
   "cell_type": "code",
   "execution_count": 4,
   "metadata": {},
   "outputs": [
    {
     "data": {
      "text/html": [
       "<div>\n",
       "<style scoped>\n",
       "    .dataframe tbody tr th:only-of-type {\n",
       "        vertical-align: middle;\n",
       "    }\n",
       "\n",
       "    .dataframe tbody tr th {\n",
       "        vertical-align: top;\n",
       "    }\n",
       "\n",
       "    .dataframe thead th {\n",
       "        text-align: right;\n",
       "    }\n",
       "</style>\n",
       "<table border=\"1\" class=\"dataframe\">\n",
       "  <thead>\n",
       "    <tr style=\"text-align: right;\">\n",
       "      <th></th>\n",
       "      <th>id</th>\n",
       "      <th>url</th>\n",
       "      <th>typ</th>\n",
       "      <th>ip_address</th>\n",
       "      <th>count_dot</th>\n",
       "      <th>sign_at</th>\n",
       "      <th>google_search</th>\n",
       "      <th>num_director</th>\n",
       "      <th>num_embed_domain</th>\n",
       "      <th>num_digits</th>\n",
       "      <th>len_url</th>\n",
       "      <th>num_parameter</th>\n",
       "      <th>num_fragments</th>\n",
       "      <th>pref_suf</th>\n",
       "    </tr>\n",
       "  </thead>\n",
       "  <tbody>\n",
       "    <tr>\n",
       "      <th>0</th>\n",
       "      <td>5535</td>\n",
       "      <td>http://10bestbingorooms.com</td>\n",
       "      <td>1</td>\n",
       "      <td>0</td>\n",
       "      <td>1</td>\n",
       "      <td>0</td>\n",
       "      <td>1</td>\n",
       "      <td>0</td>\n",
       "      <td>0</td>\n",
       "      <td>2</td>\n",
       "      <td>27</td>\n",
       "      <td>0</td>\n",
       "      <td>0</td>\n",
       "      <td>0</td>\n",
       "    </tr>\n",
       "    <tr>\n",
       "      <th>1</th>\n",
       "      <td>5704</td>\n",
       "      <td>http://10stepstostartingyouronlinebusiness.com</td>\n",
       "      <td>1</td>\n",
       "      <td>0</td>\n",
       "      <td>1</td>\n",
       "      <td>0</td>\n",
       "      <td>1</td>\n",
       "      <td>0</td>\n",
       "      <td>0</td>\n",
       "      <td>2</td>\n",
       "      <td>46</td>\n",
       "      <td>0</td>\n",
       "      <td>0</td>\n",
       "      <td>0</td>\n",
       "    </tr>\n",
       "    <tr>\n",
       "      <th>2</th>\n",
       "      <td>5705</td>\n",
       "      <td>http://10surdix.com</td>\n",
       "      <td>1</td>\n",
       "      <td>0</td>\n",
       "      <td>1</td>\n",
       "      <td>0</td>\n",
       "      <td>1</td>\n",
       "      <td>0</td>\n",
       "      <td>0</td>\n",
       "      <td>2</td>\n",
       "      <td>19</td>\n",
       "      <td>0</td>\n",
       "      <td>0</td>\n",
       "      <td>0</td>\n",
       "    </tr>\n",
       "    <tr>\n",
       "      <th>3</th>\n",
       "      <td>6123</td>\n",
       "      <td>http://116-region.ru/wp-includes/capitalone360...</td>\n",
       "      <td>1</td>\n",
       "      <td>0</td>\n",
       "      <td>1</td>\n",
       "      <td>0</td>\n",
       "      <td>1</td>\n",
       "      <td>4</td>\n",
       "      <td>0</td>\n",
       "      <td>18</td>\n",
       "      <td>80</td>\n",
       "      <td>0</td>\n",
       "      <td>0</td>\n",
       "      <td>1</td>\n",
       "    </tr>\n",
       "    <tr>\n",
       "      <th>4</th>\n",
       "      <td>6124</td>\n",
       "      <td>http://116-region.ru/wp-includes/capitalone360...</td>\n",
       "      <td>1</td>\n",
       "      <td>0</td>\n",
       "      <td>2</td>\n",
       "      <td>0</td>\n",
       "      <td>1</td>\n",
       "      <td>4</td>\n",
       "      <td>0</td>\n",
       "      <td>18</td>\n",
       "      <td>89</td>\n",
       "      <td>0</td>\n",
       "      <td>0</td>\n",
       "      <td>1</td>\n",
       "    </tr>\n",
       "    <tr>\n",
       "      <th>...</th>\n",
       "      <td>...</td>\n",
       "      <td>...</td>\n",
       "      <td>...</td>\n",
       "      <td>...</td>\n",
       "      <td>...</td>\n",
       "      <td>...</td>\n",
       "      <td>...</td>\n",
       "      <td>...</td>\n",
       "      <td>...</td>\n",
       "      <td>...</td>\n",
       "      <td>...</td>\n",
       "      <td>...</td>\n",
       "      <td>...</td>\n",
       "      <td>...</td>\n",
       "    </tr>\n",
       "    <tr>\n",
       "      <th>57277</th>\n",
       "      <td>439417</td>\n",
       "      <td>http://drevalair.com/wp-includes/images</td>\n",
       "      <td>1</td>\n",
       "      <td>0</td>\n",
       "      <td>1</td>\n",
       "      <td>0</td>\n",
       "      <td>1</td>\n",
       "      <td>2</td>\n",
       "      <td>0</td>\n",
       "      <td>0</td>\n",
       "      <td>40</td>\n",
       "      <td>0</td>\n",
       "      <td>0</td>\n",
       "      <td>0</td>\n",
       "    </tr>\n",
       "    <tr>\n",
       "      <th>57278</th>\n",
       "      <td>439497</td>\n",
       "      <td>http://drewwestcott.com/zeta/DROPBOXSECURE/sj/...</td>\n",
       "      <td>1</td>\n",
       "      <td>0</td>\n",
       "      <td>2</td>\n",
       "      <td>0</td>\n",
       "      <td>1</td>\n",
       "      <td>5</td>\n",
       "      <td>0</td>\n",
       "      <td>0</td>\n",
       "      <td>63</td>\n",
       "      <td>0</td>\n",
       "      <td>0</td>\n",
       "      <td>0</td>\n",
       "    </tr>\n",
       "    <tr>\n",
       "      <th>57279</th>\n",
       "      <td>439531</td>\n",
       "      <td>http://dreyfusashby.com/docs/324/2011/it/</td>\n",
       "      <td>1</td>\n",
       "      <td>0</td>\n",
       "      <td>1</td>\n",
       "      <td>0</td>\n",
       "      <td>1</td>\n",
       "      <td>5</td>\n",
       "      <td>0</td>\n",
       "      <td>7</td>\n",
       "      <td>42</td>\n",
       "      <td>0</td>\n",
       "      <td>0</td>\n",
       "      <td>0</td>\n",
       "    </tr>\n",
       "    <tr>\n",
       "      <th>57280</th>\n",
       "      <td>439532</td>\n",
       "      <td>http://dreyfusashby.com/italy/</td>\n",
       "      <td>1</td>\n",
       "      <td>0</td>\n",
       "      <td>1</td>\n",
       "      <td>0</td>\n",
       "      <td>1</td>\n",
       "      <td>2</td>\n",
       "      <td>0</td>\n",
       "      <td>0</td>\n",
       "      <td>31</td>\n",
       "      <td>0</td>\n",
       "      <td>0</td>\n",
       "      <td>0</td>\n",
       "    </tr>\n",
       "    <tr>\n",
       "      <th>57281</th>\n",
       "      <td>439582</td>\n",
       "      <td>http://drgangubaihangalgurukul.com</td>\n",
       "      <td>1</td>\n",
       "      <td>0</td>\n",
       "      <td>1</td>\n",
       "      <td>0</td>\n",
       "      <td>1</td>\n",
       "      <td>0</td>\n",
       "      <td>0</td>\n",
       "      <td>0</td>\n",
       "      <td>34</td>\n",
       "      <td>0</td>\n",
       "      <td>0</td>\n",
       "      <td>0</td>\n",
       "    </tr>\n",
       "  </tbody>\n",
       "</table>\n",
       "<p>57282 rows × 14 columns</p>\n",
       "</div>"
      ],
      "text/plain": [
       "           id                                                url  typ  \\\n",
       "0        5535                        http://10bestbingorooms.com    1   \n",
       "1        5704     http://10stepstostartingyouronlinebusiness.com    1   \n",
       "2        5705                                http://10surdix.com    1   \n",
       "3        6123  http://116-region.ru/wp-includes/capitalone360...    1   \n",
       "4        6124  http://116-region.ru/wp-includes/capitalone360...    1   \n",
       "...       ...                                                ...  ...   \n",
       "57277  439417           http://drevalair.com/wp-includes/images     1   \n",
       "57278  439497  http://drewwestcott.com/zeta/DROPBOXSECURE/sj/...    1   \n",
       "57279  439531         http://dreyfusashby.com/docs/324/2011/it/     1   \n",
       "57280  439532                    http://dreyfusashby.com/italy/     1   \n",
       "57281  439582                 http://drgangubaihangalgurukul.com    1   \n",
       "\n",
       "       ip_address  count_dot  sign_at  google_search  num_director  \\\n",
       "0               0          1        0              1             0   \n",
       "1               0          1        0              1             0   \n",
       "2               0          1        0              1             0   \n",
       "3               0          1        0              1             4   \n",
       "4               0          2        0              1             4   \n",
       "...           ...        ...      ...            ...           ...   \n",
       "57277           0          1        0              1             2   \n",
       "57278           0          2        0              1             5   \n",
       "57279           0          1        0              1             5   \n",
       "57280           0          1        0              1             2   \n",
       "57281           0          1        0              1             0   \n",
       "\n",
       "       num_embed_domain  num_digits  len_url  num_parameter  num_fragments  \\\n",
       "0                     0           2       27              0              0   \n",
       "1                     0           2       46              0              0   \n",
       "2                     0           2       19              0              0   \n",
       "3                     0          18       80              0              0   \n",
       "4                     0          18       89              0              0   \n",
       "...                 ...         ...      ...            ...            ...   \n",
       "57277                 0           0       40              0              0   \n",
       "57278                 0           0       63              0              0   \n",
       "57279                 0           7       42              0              0   \n",
       "57280                 0           0       31              0              0   \n",
       "57281                 0           0       34              0              0   \n",
       "\n",
       "       pref_suf  \n",
       "0             0  \n",
       "1             0  \n",
       "2             0  \n",
       "3             1  \n",
       "4             1  \n",
       "...         ...  \n",
       "57277         0  \n",
       "57278         0  \n",
       "57279         0  \n",
       "57280         0  \n",
       "57281         0  \n",
       "\n",
       "[57282 rows x 14 columns]"
      ]
     },
     "execution_count": 4,
     "metadata": {},
     "output_type": "execute_result"
    }
   ],
   "source": [
    "final_data"
   ]
  },
  {
   "cell_type": "code",
   "execution_count": 5,
   "metadata": {
    "colab": {
     "base_uri": "https://localhost:8080/"
    },
    "execution": {
     "iopub.execute_input": "2022-12-04T03:18:51.725282Z",
     "iopub.status.busy": "2022-12-04T03:18:51.724831Z",
     "iopub.status.idle": "2022-12-04T03:18:51.912287Z",
     "shell.execute_reply": "2022-12-04T03:18:51.911491Z",
     "shell.execute_reply.started": "2022-12-04T03:18:51.725250Z"
    },
    "id": "8QQcfhlnMA3d",
    "outputId": "05a30f28-3195-4f7c-de60-498ea835c747"
   },
   "outputs": [
    {
     "data": {
      "text/plain": [
       "0    31857\n",
       "1    25425\n",
       "Name: target, dtype: int64"
      ]
     },
     "execution_count": 5,
     "metadata": {},
     "output_type": "execute_result"
    }
   ],
   "source": [
    "le = LabelEncoder()\n",
    "final_data[\"target\"] = le.fit_transform(final_data[\"typ\"])\n",
    "final_data[\"target\"].value_counts()"
   ]
  },
  {
   "cell_type": "code",
   "execution_count": 6,
   "metadata": {},
   "outputs": [
    {
     "data": {
      "text/html": [
       "<div>\n",
       "<style scoped>\n",
       "    .dataframe tbody tr th:only-of-type {\n",
       "        vertical-align: middle;\n",
       "    }\n",
       "\n",
       "    .dataframe tbody tr th {\n",
       "        vertical-align: top;\n",
       "    }\n",
       "\n",
       "    .dataframe thead th {\n",
       "        text-align: right;\n",
       "    }\n",
       "</style>\n",
       "<table border=\"1\" class=\"dataframe\">\n",
       "  <thead>\n",
       "    <tr style=\"text-align: right;\">\n",
       "      <th></th>\n",
       "      <th>id</th>\n",
       "      <th>url</th>\n",
       "      <th>typ</th>\n",
       "      <th>ip_address</th>\n",
       "      <th>count_dot</th>\n",
       "      <th>sign_at</th>\n",
       "      <th>google_search</th>\n",
       "      <th>num_director</th>\n",
       "      <th>num_embed_domain</th>\n",
       "      <th>num_digits</th>\n",
       "      <th>len_url</th>\n",
       "      <th>num_parameter</th>\n",
       "      <th>num_fragments</th>\n",
       "      <th>pref_suf</th>\n",
       "      <th>target</th>\n",
       "    </tr>\n",
       "  </thead>\n",
       "  <tbody>\n",
       "    <tr>\n",
       "      <th>0</th>\n",
       "      <td>5535</td>\n",
       "      <td>http://10bestbingorooms.com</td>\n",
       "      <td>1</td>\n",
       "      <td>0</td>\n",
       "      <td>1</td>\n",
       "      <td>0</td>\n",
       "      <td>1</td>\n",
       "      <td>0</td>\n",
       "      <td>0</td>\n",
       "      <td>2</td>\n",
       "      <td>27</td>\n",
       "      <td>0</td>\n",
       "      <td>0</td>\n",
       "      <td>0</td>\n",
       "      <td>1</td>\n",
       "    </tr>\n",
       "    <tr>\n",
       "      <th>1</th>\n",
       "      <td>5704</td>\n",
       "      <td>http://10stepstostartingyouronlinebusiness.com</td>\n",
       "      <td>1</td>\n",
       "      <td>0</td>\n",
       "      <td>1</td>\n",
       "      <td>0</td>\n",
       "      <td>1</td>\n",
       "      <td>0</td>\n",
       "      <td>0</td>\n",
       "      <td>2</td>\n",
       "      <td>46</td>\n",
       "      <td>0</td>\n",
       "      <td>0</td>\n",
       "      <td>0</td>\n",
       "      <td>1</td>\n",
       "    </tr>\n",
       "    <tr>\n",
       "      <th>2</th>\n",
       "      <td>5705</td>\n",
       "      <td>http://10surdix.com</td>\n",
       "      <td>1</td>\n",
       "      <td>0</td>\n",
       "      <td>1</td>\n",
       "      <td>0</td>\n",
       "      <td>1</td>\n",
       "      <td>0</td>\n",
       "      <td>0</td>\n",
       "      <td>2</td>\n",
       "      <td>19</td>\n",
       "      <td>0</td>\n",
       "      <td>0</td>\n",
       "      <td>0</td>\n",
       "      <td>1</td>\n",
       "    </tr>\n",
       "    <tr>\n",
       "      <th>3</th>\n",
       "      <td>6123</td>\n",
       "      <td>http://116-region.ru/wp-includes/capitalone360...</td>\n",
       "      <td>1</td>\n",
       "      <td>0</td>\n",
       "      <td>1</td>\n",
       "      <td>0</td>\n",
       "      <td>1</td>\n",
       "      <td>4</td>\n",
       "      <td>0</td>\n",
       "      <td>18</td>\n",
       "      <td>80</td>\n",
       "      <td>0</td>\n",
       "      <td>0</td>\n",
       "      <td>1</td>\n",
       "      <td>1</td>\n",
       "    </tr>\n",
       "    <tr>\n",
       "      <th>4</th>\n",
       "      <td>6124</td>\n",
       "      <td>http://116-region.ru/wp-includes/capitalone360...</td>\n",
       "      <td>1</td>\n",
       "      <td>0</td>\n",
       "      <td>2</td>\n",
       "      <td>0</td>\n",
       "      <td>1</td>\n",
       "      <td>4</td>\n",
       "      <td>0</td>\n",
       "      <td>18</td>\n",
       "      <td>89</td>\n",
       "      <td>0</td>\n",
       "      <td>0</td>\n",
       "      <td>1</td>\n",
       "      <td>1</td>\n",
       "    </tr>\n",
       "    <tr>\n",
       "      <th>...</th>\n",
       "      <td>...</td>\n",
       "      <td>...</td>\n",
       "      <td>...</td>\n",
       "      <td>...</td>\n",
       "      <td>...</td>\n",
       "      <td>...</td>\n",
       "      <td>...</td>\n",
       "      <td>...</td>\n",
       "      <td>...</td>\n",
       "      <td>...</td>\n",
       "      <td>...</td>\n",
       "      <td>...</td>\n",
       "      <td>...</td>\n",
       "      <td>...</td>\n",
       "      <td>...</td>\n",
       "    </tr>\n",
       "    <tr>\n",
       "      <th>57277</th>\n",
       "      <td>439417</td>\n",
       "      <td>http://drevalair.com/wp-includes/images</td>\n",
       "      <td>1</td>\n",
       "      <td>0</td>\n",
       "      <td>1</td>\n",
       "      <td>0</td>\n",
       "      <td>1</td>\n",
       "      <td>2</td>\n",
       "      <td>0</td>\n",
       "      <td>0</td>\n",
       "      <td>40</td>\n",
       "      <td>0</td>\n",
       "      <td>0</td>\n",
       "      <td>0</td>\n",
       "      <td>1</td>\n",
       "    </tr>\n",
       "    <tr>\n",
       "      <th>57278</th>\n",
       "      <td>439497</td>\n",
       "      <td>http://drewwestcott.com/zeta/DROPBOXSECURE/sj/...</td>\n",
       "      <td>1</td>\n",
       "      <td>0</td>\n",
       "      <td>2</td>\n",
       "      <td>0</td>\n",
       "      <td>1</td>\n",
       "      <td>5</td>\n",
       "      <td>0</td>\n",
       "      <td>0</td>\n",
       "      <td>63</td>\n",
       "      <td>0</td>\n",
       "      <td>0</td>\n",
       "      <td>0</td>\n",
       "      <td>1</td>\n",
       "    </tr>\n",
       "    <tr>\n",
       "      <th>57279</th>\n",
       "      <td>439531</td>\n",
       "      <td>http://dreyfusashby.com/docs/324/2011/it/</td>\n",
       "      <td>1</td>\n",
       "      <td>0</td>\n",
       "      <td>1</td>\n",
       "      <td>0</td>\n",
       "      <td>1</td>\n",
       "      <td>5</td>\n",
       "      <td>0</td>\n",
       "      <td>7</td>\n",
       "      <td>42</td>\n",
       "      <td>0</td>\n",
       "      <td>0</td>\n",
       "      <td>0</td>\n",
       "      <td>1</td>\n",
       "    </tr>\n",
       "    <tr>\n",
       "      <th>57280</th>\n",
       "      <td>439532</td>\n",
       "      <td>http://dreyfusashby.com/italy/</td>\n",
       "      <td>1</td>\n",
       "      <td>0</td>\n",
       "      <td>1</td>\n",
       "      <td>0</td>\n",
       "      <td>1</td>\n",
       "      <td>2</td>\n",
       "      <td>0</td>\n",
       "      <td>0</td>\n",
       "      <td>31</td>\n",
       "      <td>0</td>\n",
       "      <td>0</td>\n",
       "      <td>0</td>\n",
       "      <td>1</td>\n",
       "    </tr>\n",
       "    <tr>\n",
       "      <th>57281</th>\n",
       "      <td>439582</td>\n",
       "      <td>http://drgangubaihangalgurukul.com</td>\n",
       "      <td>1</td>\n",
       "      <td>0</td>\n",
       "      <td>1</td>\n",
       "      <td>0</td>\n",
       "      <td>1</td>\n",
       "      <td>0</td>\n",
       "      <td>0</td>\n",
       "      <td>0</td>\n",
       "      <td>34</td>\n",
       "      <td>0</td>\n",
       "      <td>0</td>\n",
       "      <td>0</td>\n",
       "      <td>1</td>\n",
       "    </tr>\n",
       "  </tbody>\n",
       "</table>\n",
       "<p>57282 rows × 15 columns</p>\n",
       "</div>"
      ],
      "text/plain": [
       "           id                                                url  typ  \\\n",
       "0        5535                        http://10bestbingorooms.com    1   \n",
       "1        5704     http://10stepstostartingyouronlinebusiness.com    1   \n",
       "2        5705                                http://10surdix.com    1   \n",
       "3        6123  http://116-region.ru/wp-includes/capitalone360...    1   \n",
       "4        6124  http://116-region.ru/wp-includes/capitalone360...    1   \n",
       "...       ...                                                ...  ...   \n",
       "57277  439417           http://drevalair.com/wp-includes/images     1   \n",
       "57278  439497  http://drewwestcott.com/zeta/DROPBOXSECURE/sj/...    1   \n",
       "57279  439531         http://dreyfusashby.com/docs/324/2011/it/     1   \n",
       "57280  439532                    http://dreyfusashby.com/italy/     1   \n",
       "57281  439582                 http://drgangubaihangalgurukul.com    1   \n",
       "\n",
       "       ip_address  count_dot  sign_at  google_search  num_director  \\\n",
       "0               0          1        0              1             0   \n",
       "1               0          1        0              1             0   \n",
       "2               0          1        0              1             0   \n",
       "3               0          1        0              1             4   \n",
       "4               0          2        0              1             4   \n",
       "...           ...        ...      ...            ...           ...   \n",
       "57277           0          1        0              1             2   \n",
       "57278           0          2        0              1             5   \n",
       "57279           0          1        0              1             5   \n",
       "57280           0          1        0              1             2   \n",
       "57281           0          1        0              1             0   \n",
       "\n",
       "       num_embed_domain  num_digits  len_url  num_parameter  num_fragments  \\\n",
       "0                     0           2       27              0              0   \n",
       "1                     0           2       46              0              0   \n",
       "2                     0           2       19              0              0   \n",
       "3                     0          18       80              0              0   \n",
       "4                     0          18       89              0              0   \n",
       "...                 ...         ...      ...            ...            ...   \n",
       "57277                 0           0       40              0              0   \n",
       "57278                 0           0       63              0              0   \n",
       "57279                 0           7       42              0              0   \n",
       "57280                 0           0       31              0              0   \n",
       "57281                 0           0       34              0              0   \n",
       "\n",
       "       pref_suf  target  \n",
       "0             0       1  \n",
       "1             0       1  \n",
       "2             0       1  \n",
       "3             1       1  \n",
       "4             1       1  \n",
       "...         ...     ...  \n",
       "57277         0       1  \n",
       "57278         0       1  \n",
       "57279         0       1  \n",
       "57280         0       1  \n",
       "57281         0       1  \n",
       "\n",
       "[57282 rows x 15 columns]"
      ]
     },
     "execution_count": 6,
     "metadata": {},
     "output_type": "execute_result"
    }
   ],
   "source": [
    "final_data"
   ]
  },
  {
   "cell_type": "code",
   "execution_count": 7,
   "metadata": {
    "execution": {
     "iopub.execute_input": "2022-12-04T03:18:58.700577Z",
     "iopub.status.busy": "2022-12-04T03:18:58.699119Z",
     "iopub.status.idle": "2022-12-04T03:18:58.782283Z",
     "shell.execute_reply": "2022-12-04T03:18:58.781077Z",
     "shell.execute_reply.started": "2022-12-04T03:18:58.700510Z"
    },
    "id": "gAlS9YPyMA3d"
   },
   "outputs": [],
   "source": [
    "X = final_data.drop(['url','typ','target'] , axis = 1)\n",
    "y = final_data.target"
   ]
  },
  {
   "cell_type": "code",
   "execution_count": 8,
   "metadata": {
    "colab": {
     "base_uri": "https://localhost:8080/"
    },
    "execution": {
     "iopub.execute_input": "2022-12-04T03:18:59.090986Z",
     "iopub.status.busy": "2022-12-04T03:18:59.090395Z",
     "iopub.status.idle": "2022-12-04T03:18:59.100466Z",
     "shell.execute_reply": "2022-12-04T03:18:59.099205Z",
     "shell.execute_reply.started": "2022-12-04T03:18:59.090938Z"
    },
    "id": "DfIjnAnEMA3d",
    "outputId": "f18c33e7-1e29-4e42-b678-22f1b0568961"
   },
   "outputs": [
    {
     "data": {
      "text/html": [
       "<div>\n",
       "<style scoped>\n",
       "    .dataframe tbody tr th:only-of-type {\n",
       "        vertical-align: middle;\n",
       "    }\n",
       "\n",
       "    .dataframe tbody tr th {\n",
       "        vertical-align: top;\n",
       "    }\n",
       "\n",
       "    .dataframe thead th {\n",
       "        text-align: right;\n",
       "    }\n",
       "</style>\n",
       "<table border=\"1\" class=\"dataframe\">\n",
       "  <thead>\n",
       "    <tr style=\"text-align: right;\">\n",
       "      <th></th>\n",
       "      <th>id</th>\n",
       "      <th>ip_address</th>\n",
       "      <th>count_dot</th>\n",
       "      <th>sign_at</th>\n",
       "      <th>google_search</th>\n",
       "      <th>num_director</th>\n",
       "      <th>num_embed_domain</th>\n",
       "      <th>num_digits</th>\n",
       "      <th>len_url</th>\n",
       "      <th>num_parameter</th>\n",
       "      <th>num_fragments</th>\n",
       "      <th>pref_suf</th>\n",
       "    </tr>\n",
       "  </thead>\n",
       "  <tbody>\n",
       "    <tr>\n",
       "      <th>0</th>\n",
       "      <td>5535</td>\n",
       "      <td>0</td>\n",
       "      <td>1</td>\n",
       "      <td>0</td>\n",
       "      <td>1</td>\n",
       "      <td>0</td>\n",
       "      <td>0</td>\n",
       "      <td>2</td>\n",
       "      <td>27</td>\n",
       "      <td>0</td>\n",
       "      <td>0</td>\n",
       "      <td>0</td>\n",
       "    </tr>\n",
       "    <tr>\n",
       "      <th>1</th>\n",
       "      <td>5704</td>\n",
       "      <td>0</td>\n",
       "      <td>1</td>\n",
       "      <td>0</td>\n",
       "      <td>1</td>\n",
       "      <td>0</td>\n",
       "      <td>0</td>\n",
       "      <td>2</td>\n",
       "      <td>46</td>\n",
       "      <td>0</td>\n",
       "      <td>0</td>\n",
       "      <td>0</td>\n",
       "    </tr>\n",
       "    <tr>\n",
       "      <th>2</th>\n",
       "      <td>5705</td>\n",
       "      <td>0</td>\n",
       "      <td>1</td>\n",
       "      <td>0</td>\n",
       "      <td>1</td>\n",
       "      <td>0</td>\n",
       "      <td>0</td>\n",
       "      <td>2</td>\n",
       "      <td>19</td>\n",
       "      <td>0</td>\n",
       "      <td>0</td>\n",
       "      <td>0</td>\n",
       "    </tr>\n",
       "    <tr>\n",
       "      <th>3</th>\n",
       "      <td>6123</td>\n",
       "      <td>0</td>\n",
       "      <td>1</td>\n",
       "      <td>0</td>\n",
       "      <td>1</td>\n",
       "      <td>4</td>\n",
       "      <td>0</td>\n",
       "      <td>18</td>\n",
       "      <td>80</td>\n",
       "      <td>0</td>\n",
       "      <td>0</td>\n",
       "      <td>1</td>\n",
       "    </tr>\n",
       "    <tr>\n",
       "      <th>4</th>\n",
       "      <td>6124</td>\n",
       "      <td>0</td>\n",
       "      <td>2</td>\n",
       "      <td>0</td>\n",
       "      <td>1</td>\n",
       "      <td>4</td>\n",
       "      <td>0</td>\n",
       "      <td>18</td>\n",
       "      <td>89</td>\n",
       "      <td>0</td>\n",
       "      <td>0</td>\n",
       "      <td>1</td>\n",
       "    </tr>\n",
       "    <tr>\n",
       "      <th>...</th>\n",
       "      <td>...</td>\n",
       "      <td>...</td>\n",
       "      <td>...</td>\n",
       "      <td>...</td>\n",
       "      <td>...</td>\n",
       "      <td>...</td>\n",
       "      <td>...</td>\n",
       "      <td>...</td>\n",
       "      <td>...</td>\n",
       "      <td>...</td>\n",
       "      <td>...</td>\n",
       "      <td>...</td>\n",
       "    </tr>\n",
       "    <tr>\n",
       "      <th>57277</th>\n",
       "      <td>439417</td>\n",
       "      <td>0</td>\n",
       "      <td>1</td>\n",
       "      <td>0</td>\n",
       "      <td>1</td>\n",
       "      <td>2</td>\n",
       "      <td>0</td>\n",
       "      <td>0</td>\n",
       "      <td>40</td>\n",
       "      <td>0</td>\n",
       "      <td>0</td>\n",
       "      <td>0</td>\n",
       "    </tr>\n",
       "    <tr>\n",
       "      <th>57278</th>\n",
       "      <td>439497</td>\n",
       "      <td>0</td>\n",
       "      <td>2</td>\n",
       "      <td>0</td>\n",
       "      <td>1</td>\n",
       "      <td>5</td>\n",
       "      <td>0</td>\n",
       "      <td>0</td>\n",
       "      <td>63</td>\n",
       "      <td>0</td>\n",
       "      <td>0</td>\n",
       "      <td>0</td>\n",
       "    </tr>\n",
       "    <tr>\n",
       "      <th>57279</th>\n",
       "      <td>439531</td>\n",
       "      <td>0</td>\n",
       "      <td>1</td>\n",
       "      <td>0</td>\n",
       "      <td>1</td>\n",
       "      <td>5</td>\n",
       "      <td>0</td>\n",
       "      <td>7</td>\n",
       "      <td>42</td>\n",
       "      <td>0</td>\n",
       "      <td>0</td>\n",
       "      <td>0</td>\n",
       "    </tr>\n",
       "    <tr>\n",
       "      <th>57280</th>\n",
       "      <td>439532</td>\n",
       "      <td>0</td>\n",
       "      <td>1</td>\n",
       "      <td>0</td>\n",
       "      <td>1</td>\n",
       "      <td>2</td>\n",
       "      <td>0</td>\n",
       "      <td>0</td>\n",
       "      <td>31</td>\n",
       "      <td>0</td>\n",
       "      <td>0</td>\n",
       "      <td>0</td>\n",
       "    </tr>\n",
       "    <tr>\n",
       "      <th>57281</th>\n",
       "      <td>439582</td>\n",
       "      <td>0</td>\n",
       "      <td>1</td>\n",
       "      <td>0</td>\n",
       "      <td>1</td>\n",
       "      <td>0</td>\n",
       "      <td>0</td>\n",
       "      <td>0</td>\n",
       "      <td>34</td>\n",
       "      <td>0</td>\n",
       "      <td>0</td>\n",
       "      <td>0</td>\n",
       "    </tr>\n",
       "  </tbody>\n",
       "</table>\n",
       "<p>57282 rows × 12 columns</p>\n",
       "</div>"
      ],
      "text/plain": [
       "           id  ip_address  count_dot  sign_at  google_search  num_director  \\\n",
       "0        5535           0          1        0              1             0   \n",
       "1        5704           0          1        0              1             0   \n",
       "2        5705           0          1        0              1             0   \n",
       "3        6123           0          1        0              1             4   \n",
       "4        6124           0          2        0              1             4   \n",
       "...       ...         ...        ...      ...            ...           ...   \n",
       "57277  439417           0          1        0              1             2   \n",
       "57278  439497           0          2        0              1             5   \n",
       "57279  439531           0          1        0              1             5   \n",
       "57280  439532           0          1        0              1             2   \n",
       "57281  439582           0          1        0              1             0   \n",
       "\n",
       "       num_embed_domain  num_digits  len_url  num_parameter  num_fragments  \\\n",
       "0                     0           2       27              0              0   \n",
       "1                     0           2       46              0              0   \n",
       "2                     0           2       19              0              0   \n",
       "3                     0          18       80              0              0   \n",
       "4                     0          18       89              0              0   \n",
       "...                 ...         ...      ...            ...            ...   \n",
       "57277                 0           0       40              0              0   \n",
       "57278                 0           0       63              0              0   \n",
       "57279                 0           7       42              0              0   \n",
       "57280                 0           0       31              0              0   \n",
       "57281                 0           0       34              0              0   \n",
       "\n",
       "       pref_suf  \n",
       "0             0  \n",
       "1             0  \n",
       "2             0  \n",
       "3             1  \n",
       "4             1  \n",
       "...         ...  \n",
       "57277         0  \n",
       "57278         0  \n",
       "57279         0  \n",
       "57280         0  \n",
       "57281         0  \n",
       "\n",
       "[57282 rows x 12 columns]"
      ]
     },
     "execution_count": 8,
     "metadata": {},
     "output_type": "execute_result"
    }
   ],
   "source": [
    "X"
   ]
  },
  {
   "cell_type": "code",
   "execution_count": 17,
   "metadata": {
    "execution": {
     "iopub.execute_input": "2022-12-04T03:19:01.516864Z",
     "iopub.status.busy": "2022-12-04T03:19:01.516107Z",
     "iopub.status.idle": "2022-12-04T03:19:01.717504Z",
     "shell.execute_reply": "2022-12-04T03:19:01.716461Z",
     "shell.execute_reply.started": "2022-12-04T03:19:01.516812Z"
    },
    "id": "u1Fef6ryMA3e"
   },
   "outputs": [],
   "source": [
    "\n",
    "X_train, X_test, y_train, y_test = train_test_split(X, y,  test_size=0.2,shuffle=True, random_state=0)\n"
   ]
  },
  {
   "cell_type": "code",
   "execution_count": 25,
   "metadata": {},
   "outputs": [],
   "source": [
    "scoring = {'precision' : make_scorer(precision_score),\n",
    "           'recall' : make_scorer(recall_score), \n",
    "           'f1_score' : make_scorer(f1_score)}"
   ]
  },
  {
   "cell_type": "markdown",
   "metadata": {},
   "source": [
    "## Random Forest"
   ]
  },
  {
   "cell_type": "code",
   "execution_count": 90,
   "metadata": {
    "colab": {
     "base_uri": "https://localhost:8080/"
    },
    "execution": {
     "iopub.execute_input": "2022-12-04T03:21:57.398802Z",
     "iopub.status.busy": "2022-12-04T03:21:57.398131Z",
     "iopub.status.idle": "2022-12-04T03:23:44.456531Z",
     "shell.execute_reply": "2022-12-04T03:23:44.454953Z",
     "shell.execute_reply.started": "2022-12-04T03:21:57.398731Z"
    },
    "id": "X7t4IUb0MA3e",
    "outputId": "d71861e9-280a-4c31-e7bf-d0b818d34395"
   },
   "outputs": [],
   "source": [
    "rf = RandomForestClassifier(n_estimators=100,max_features='sqrt')\n",
    "rf.fit(X_train,y_train)\n",
    "y_pred_rf = rf.predict(X_test)"
   ]
  },
  {
   "cell_type": "code",
   "execution_count": 92,
   "metadata": {},
   "outputs": [
    {
     "data": {
      "text/plain": [
       "['fit_time', 'score_time', 'test_f1_score', 'test_precision', 'test_recall']"
      ]
     },
     "execution_count": 92,
     "metadata": {},
     "output_type": "execute_result"
    }
   ],
   "source": [
    "score_rf = cross_validate(estimator =rf, X = X_train, y = y_train, cv = 10,scoring=scoring)\n",
    "sorted(score_rf.keys())"
   ]
  },
  {
   "cell_type": "code",
   "execution_count": 108,
   "metadata": {},
   "outputs": [
    {
     "name": "stdout",
     "output_type": "stream",
     "text": [
      "10-Folds F1-Score: Recall 0.913 (+/- 0.013) \n",
      "\n",
      "10-Folds F1-Score: f1_score 0.924 (+/- 0.009) \n",
      "\n",
      "              precision    recall  f1-score   support\n",
      "\n",
      "           0       0.94      0.95      0.94      6385\n",
      "           1       0.93      0.92      0.93      5072\n",
      "\n",
      "    accuracy                           0.94     11457\n",
      "   macro avg       0.94      0.94      0.94     11457\n",
      "weighted avg       0.94      0.94      0.94     11457\n",
      "\n"
     ]
    }
   ],
   "source": [
    "print(f\"10-Folds F1-Score: Recall %0.3f (+/- %0.3f)\" % (score_rf['test_recall'].mean(), score_rf['test_recall'].std() * 2),\"\\n\")\n",
    "print(f\"10-Folds F1-Score: f1_score %0.3f (+/- %0.3f)\" % (score_rf['test_f1_score'].mean(), score_rf['test_f1_score'].std() * 2),\"\\n\")\n",
    "print(classification_report(y_test, y_pred_rf))"
   ]
  },
  {
   "cell_type": "code",
   "execution_count": 94,
   "metadata": {
    "colab": {
     "base_uri": "https://localhost:8080/",
     "height": 404
    },
    "execution": {
     "iopub.execute_input": "2022-12-04T03:23:44.459459Z",
     "iopub.status.busy": "2022-12-04T03:23:44.459051Z",
     "iopub.status.idle": "2022-12-04T03:23:44.811056Z",
     "shell.execute_reply": "2022-12-04T03:23:44.809473Z",
     "shell.execute_reply.started": "2022-12-04T03:23:44.459422Z"
    },
    "id": "oQGpQtddMA3e",
    "outputId": "88dfe716-1214-486f-a3e0-20eab0db0f67"
   },
   "outputs": [
    {
     "data": {
      "image/png": "[encoded data removed]",
      "text/plain": [
       "<Figure size 576x432 with 2 Axes>"
      ]
     },
     "metadata": {
      "needs_background": "light"
     },
     "output_type": "display_data"
    }
   ],
   "source": [
    "cm = confusion_matrix(y_test, y_pred_rf)\n",
    "plt.figure(figsize=(8,6))\n",
    "sns.heatmap(cm, annot=True,fmt=\".1f\")\n",
    "plt.title('Confusion Matrix')\n",
    "plt.ylabel('Actal Values')\n",
    "plt.xlabel('Predicted Values')\n",
    "plt.show()"
   ]
  },
  {
   "cell_type": "markdown",
   "metadata": {},
   "source": [
    "## XGB_Classifier"
   ]
  },
  {
   "cell_type": "code",
   "execution_count": 107,
   "metadata": {
    "colab": {
     "base_uri": "https://localhost:8080/"
    },
    "execution": {
     "iopub.execute_input": "2022-12-04T03:23:44.813112Z",
     "iopub.status.busy": "2022-12-04T03:23:44.812624Z",
     "iopub.status.idle": "2022-12-04T03:25:32.032727Z",
     "shell.execute_reply": "2022-12-04T03:25:32.030489Z",
     "shell.execute_reply.started": "2022-12-04T03:23:44.813070Z"
    },
    "id": "fWsGxSU-MA3e",
    "outputId": "b19f9d72-2634-428a-88e6-4a032ce23350"
   },
   "outputs": [
    {
     "data": {
      "text/plain": [
       "0.9543510517587501"
      ]
     },
     "execution_count": 107,
     "metadata": {},
     "output_type": "execute_result"
    }
   ],
   "source": [
    "xgb_c = xgb.XGBClassifier(n_estimators= 100)\n",
    "xgb_c.fit(X_train,y_train)\n",
    "y_pred_xgb_c = xgb_c.predict(X_test)\n",
    "accuracy_score(y_test,y_pred_xgb_c)"
   ]
  },
  {
   "cell_type": "code",
   "execution_count": 104,
   "metadata": {},
   "outputs": [
    {
     "data": {
      "text/plain": [
       "['fit_time', 'score_time', 'test_f1_score', 'test_precision', 'test_recall']"
      ]
     },
     "execution_count": 104,
     "metadata": {},
     "output_type": "execute_result"
    }
   ],
   "source": [
    "score_xgb_c = cross_validate(estimator =xgb_c, X = X_train, y = y_train, cv = 10,scoring=scoring)\n",
    "sorted(score_xgb_c.keys())"
   ]
  },
  {
   "cell_type": "code",
   "execution_count": 105,
   "metadata": {},
   "outputs": [
    {
     "name": "stdout",
     "output_type": "stream",
     "text": [
      "10-Folds F1-Score: Recall 0.913 (+/- 0.012) \n",
      "\n",
      "10-Folds F1-Score: f1_score 0.943 (+/- 0.007) \n",
      "\n",
      "              precision    recall  f1-score   support\n",
      "\n",
      "           0       0.94      0.98      0.96      6385\n",
      "           1       0.97      0.92      0.95      5072\n",
      "\n",
      "    accuracy                           0.95     11457\n",
      "   macro avg       0.96      0.95      0.95     11457\n",
      "weighted avg       0.96      0.95      0.95     11457\n",
      "\n"
     ]
    }
   ],
   "source": [
    "print(f\"10-Folds F1-Score: Recall %0.3f (+/- %0.3f)\" % (score_xgb_c['test_recall'].mean(), score_xgb_c['test_recall'].std() * 2),\"\\n\")\n",
    "print(f\"10-Folds F1-Score: f1_score %0.3f (+/- %0.3f)\" % (score_xgb_c['test_f1_score'].mean(), score_xgb_c['test_f1_score'].std() * 2),\"\\n\")\n",
    "print(classification_report(y_test, y_pred_xgb_c))"
   ]
  },
  {
   "cell_type": "code",
   "execution_count": 106,
   "metadata": {
    "colab": {
     "base_uri": "https://localhost:8080/",
     "height": 404
    },
    "execution": {
     "iopub.execute_input": "2022-12-04T03:25:32.036985Z",
     "iopub.status.busy": "2022-12-04T03:25:32.036126Z",
     "iopub.status.idle": "2022-12-04T03:25:32.422215Z",
     "shell.execute_reply": "2022-12-04T03:25:32.419979Z",
     "shell.execute_reply.started": "2022-12-04T03:25:32.036935Z"
    },
    "id": "4smiJOaWMA3e",
    "outputId": "e36c9ada-350e-404a-b8b1-7d8c62f2368f",
    "scrolled": false
   },
   "outputs": [
    {
     "data": {
      "image/png": "[encoded data removed]",
      "text/plain": [
       "<Figure size 576x432 with 2 Axes>"
      ]
     },
     "metadata": {
      "needs_background": "light"
     },
     "output_type": "display_data"
    }
   ],
   "source": [
    "cm = confusion_matrix(y_test, y_pred_x)\n",
    "plt.figure(figsize=(8,6))\n",
    "sns.heatmap(cm, annot=True,fmt=\".1f\")\n",
    "plt.title('Confusion Matrix')\n",
    "plt.ylabel('Actal Values')\n",
    "plt.xlabel('Predicted Values')\n",
    "plt.show()"
   ]
  },
  {
   "cell_type": "markdown",
   "metadata": {
    "id": "X2OOEUlgDBNn"
   },
   "source": [
    "## Bagging"
   ]
  },
  {
   "cell_type": "code",
   "execution_count": 26,
   "metadata": {
    "id": "ZZvymNOIDBNn",
    "outputId": "9c9fcd17-0ce8-4e17-b190-5fd8052f6092"
   },
   "outputs": [
    {
     "data": {
      "text/plain": [
       "0.9423932966745221"
      ]
     },
     "execution_count": 26,
     "metadata": {},
     "output_type": "execute_result"
    }
   ],
   "source": [
    "model_Bagging = BaggingClassifier()\n",
    "model_Bagging.fit(X_train, y_train)\n",
    "y_pred_Bagging = model_Bagging.predict(X_test)\n",
    "accuracy_score(y_test, y_pred_Bagging)"
   ]
  },
  {
   "cell_type": "code",
   "execution_count": 33,
   "metadata": {
    "id": "1XKjICJ8DBNn",
    "outputId": "0d297a0a-5bb6-4066-b2fe-2539d34d1408"
   },
   "outputs": [
    {
     "data": {
      "text/plain": [
       "['fit_time', 'score_time', 'test_f1_score', 'test_precision', 'test_recall']"
      ]
     },
     "execution_count": 33,
     "metadata": {},
     "output_type": "execute_result"
    }
   ],
   "source": [
    "score_Bagging = cross_validate(estimator = model_Bagging, X = X_train, y = y_train, cv = 10,scoring=scoring)\n",
    "sorted(score_Bagging.keys())\n"
   ]
  },
  {
   "cell_type": "code",
   "execution_count": 84,
   "metadata": {},
   "outputs": [
    {
     "name": "stdout",
     "output_type": "stream",
     "text": [
      "10-Folds F1-Score: Recall 0.908 (+/- 0.011) \n",
      "\n",
      "10-Folds F1-Score: f1_score 0.930 (+/- 0.008) \n",
      "\n",
      "              precision    recall  f1-score   support\n",
      "\n",
      "           0       0.94      0.96      0.95      6385\n",
      "           1       0.95      0.92      0.93      5072\n",
      "\n",
      "    accuracy                           0.94     11457\n",
      "   macro avg       0.94      0.94      0.94     11457\n",
      "weighted avg       0.94      0.94      0.94     11457\n",
      "\n"
     ]
    }
   ],
   "source": [
    "print(f\"10-Folds F1-Score: Recall %0.3f (+/- %0.3f)\" % (score_Bagging['test_recall'].mean(), score_Bagging['test_recall'].std() * 2),\"\\n\")\n",
    "print(f\"10-Folds F1-Score: f1_score %0.3f (+/- %0.3f)\" % (score_Bagging['test_f1_score'].mean(), score_Bagging['test_f1_score'].std() * 2),\"\\n\")\n",
    "print(classification_report(y_test, y_pred_Bagging))"
   ]
  },
  {
   "cell_type": "code",
   "execution_count": 71,
   "metadata": {
    "id": "b1Nxu3lpDBNn",
    "outputId": "e012fcf8-2622-4ebf-fe43-aa182f64aff7"
   },
   "outputs": [
    {
     "data": {
      "image/png": "[encoded data removed]",
      "text/plain": [
       "<Figure size 576x432 with 2 Axes>"
      ]
     },
     "metadata": {
      "needs_background": "light"
     },
     "output_type": "display_data"
    }
   ],
   "source": [
    "cm = confusion_matrix(y_test, y_pred_Bagging)\n",
    "plt.figure(figsize=(8,6))\n",
    "sns.heatmap(cm, annot=True,fmt=\".1f\")\n",
    "plt.title('Confusion Matrix')\n",
    "plt.ylabel('Actal Values')\n",
    "plt.xlabel('Predicted Values')\n",
    "plt.show()"
   ]
  },
  {
   "cell_type": "markdown",
   "metadata": {
    "id": "eKDI8AiFDBNn"
   },
   "source": [
    "## Boosting "
   ]
  },
  {
   "cell_type": "code",
   "execution_count": 41,
   "metadata": {
    "id": "E3JevlX0DBNo",
    "outputId": "ad72a069-6734-4ece-9b83-17b65b138036"
   },
   "outputs": [
    {
     "name": "stdout",
     "output_type": "stream",
     "text": [
      "Learning rate:  0.05\n",
      "Accuracy score : 0.909\n",
      "\n",
      "Learning rate:  0.1\n",
      "Accuracy score : 0.927\n",
      "\n",
      "Learning rate:  0.25\n",
      "Accuracy score : 0.931\n",
      "\n",
      "Learning rate:  0.5\n",
      "Accuracy score : 0.935\n",
      "\n",
      "Learning rate:  0.75\n",
      "Accuracy score : 0.938\n",
      "\n",
      "Learning rate:  1\n",
      "Accuracy score : 0.938\n",
      "\n"
     ]
    }
   ],
   "source": [
    "learning_rates = [0.05, 0.1, 0.25, 0.5, 0.75, 1]\n",
    "for learning_rate in learning_rates:\n",
    "    model_Boosting = GradientBoostingClassifier(n_estimators=100, learning_rate = learning_rate, max_features=2, max_depth = 2, random_state = 0)\n",
    "    model_Boosting.fit(X_train, y_train)\n",
    "    y_pred_Boosting = model_Boosting.predict(X_test)\n",
    "    print(\"Learning rate: \", learning_rate)\n",
    "    print(\"Accuracy score : {0:.3f}\".format(accuracy_score(y_test, y_pred_Boosting)))\n",
    "    print()\n"
   ]
  },
  {
   "cell_type": "code",
   "execution_count": 42,
   "metadata": {
    "id": "5pdNJfxVDBNo",
    "outputId": "db82f9c4-deda-493f-e4ca-b85d6105d813"
   },
   "outputs": [
    {
     "data": {
      "text/plain": [
       "['fit_time', 'score_time', 'test_f1_score', 'test_precision', 'test_recall']"
      ]
     },
     "execution_count": 42,
     "metadata": {},
     "output_type": "execute_result"
    }
   ],
   "source": [
    "score_Boosting = cross_validate(estimator = model_Boosting, X = X_train, y = y_train, cv = 10,scoring=scoring)\n",
    "sorted(score_Boosting.keys())"
   ]
  },
  {
   "cell_type": "code",
   "execution_count": 83,
   "metadata": {},
   "outputs": [
    {
     "name": "stdout",
     "output_type": "stream",
     "text": [
      "10-Folds F1-Score: Recall 0.877 (+/- 0.015) \n",
      "\n",
      "10-Folds F1-Score: f1_score 0.922 (+/- 0.009) \n",
      "\n",
      "              precision    recall  f1-score   support\n",
      "\n",
      "           0       0.92      0.98      0.95      6385\n",
      "           1       0.97      0.89      0.93      5072\n",
      "\n",
      "    accuracy                           0.94     11457\n",
      "   macro avg       0.94      0.93      0.94     11457\n",
      "weighted avg       0.94      0.94      0.94     11457\n",
      "\n"
     ]
    }
   ],
   "source": [
    "print(f\"10-Folds F1-Score: Recall %0.3f (+/- %0.3f)\" % (score_Boosting['test_recall'].mean(), score_Boosting['test_recall'].std() * 2),\"\\n\")\n",
    "print(f\"10-Folds F1-Score: f1_score %0.3f (+/- %0.3f)\" % (score_Boosting['test_f1_score'].mean(), score_Boosting['test_f1_score'].std() * 2),\"\\n\")\n",
    "print(classification_report(y_test, y_pred_Boosting))"
   ]
  },
  {
   "cell_type": "code",
   "execution_count": 44,
   "metadata": {
    "id": "z9PpgfCoDBNo",
    "outputId": "5afa7929-96d9-421f-8554-4b8097112743"
   },
   "outputs": [
    {
     "data": {
      "image/png": "[encoded data removed]",
      "text/plain": [
       "<Figure size 576x432 with 2 Axes>"
      ]
     },
     "metadata": {
      "needs_background": "light"
     },
     "output_type": "display_data"
    }
   ],
   "source": [
    "cm = confusion_matrix(y_test, y_pred_Boosting)\n",
    "plt.figure(figsize=(8,6))\n",
    "sns.heatmap(cm, annot=True,fmt=\".1f\")\n",
    "plt.title('Confusion Matrix')\n",
    "plt.ylabel('Actal Values')\n",
    "plt.xlabel('Predicted Values')\n",
    "plt.show()"
   ]
  },
  {
   "cell_type": "markdown",
   "metadata": {
    "id": "Jn2nep_ODBNo"
   },
   "source": [
    "## Ensamble between Bagging&Boosting using Stacking"
   ]
  },
  {
   "cell_type": "code",
   "execution_count": 46,
   "metadata": {
    "id": "WGWS4E3yDBNo"
   },
   "outputs": [],
   "source": [
    "All_Models = [\n",
    "('RF', RandomForestClassifier(n_estimators=100, random_state=42)),\n",
    "('SVM', make_pipeline(StandardScaler(),LinearSVC(random_state=42))),\n",
    "('GNB', ExtraTreesClassifier()),\n",
    "('Bagging',BaggingClassifier()),   \n",
    "('Boosting',GradientBoostingClassifier(n_estimators=100, learning_rate = 1, max_features=2, max_depth = 2, random_state = 0))    \n",
    "]"
   ]
  },
  {
   "cell_type": "code",
   "execution_count": 49,
   "metadata": {},
   "outputs": [
    {
     "data": {
      "text/html": [
       "<style>#sk-container-id-2 {color: black;background-color: white;}#sk-container-id-2 pre{padding: 0;}#sk-container-id-2 div.sk-toggleable {background-color: white;}#sk-container-id-2 label.sk-toggleable__label {cursor: pointer;display: block;width: 100%;margin-bottom: 0;padding: 0.3em;box-sizing: border-box;text-align: center;}#sk-container-id-2 label.sk-toggleable__label-arrow:before {content: \"▸\";float: left;margin-right: 0.25em;color: #696969;}#sk-container-id-2 label.sk-toggleable__label-arrow:hover:before {color: black;}#sk-container-id-2 div.sk-estimator:hover label.sk-toggleable__label-arrow:before {color: black;}#sk-container-id-2 div.sk-toggleable__content {max-height: 0;max-width: 0;overflow: hidden;text-align: left;background-color: #f0f8ff;}#sk-container-id-2 div.sk-toggleable__content pre {margin: 0.2em;color: black;border-radius: 0.25em;background-color: #f0f8ff;}#sk-container-id-2 input.sk-toggleable__control:checked~div.sk-toggleable__content {max-height: 200px;max-width: 100%;overflow: auto;}#sk-container-id-2 input.sk-toggleable__control:checked~label.sk-toggleable__label-arrow:before {content: \"▾\";}#sk-container-id-2 div.sk-estimator input.sk-toggleable__control:checked~label.sk-toggleable__label {background-color: #d4ebff;}#sk-container-id-2 div.sk-label input.sk-toggleable__control:checked~label.sk-toggleable__label {background-color: #d4ebff;}#sk-container-id-2 input.sk-hidden--visually {border: 0;clip: rect(1px 1px 1px 1px);clip: rect(1px, 1px, 1px, 1px);height: 1px;margin: -1px;overflow: hidden;padding: 0;position: absolute;width: 1px;}#sk-container-id-2 div.sk-estimator {font-family: monospace;background-color: #f0f8ff;border: 1px dotted black;border-radius: 0.25em;box-sizing: border-box;margin-bottom: 0.5em;}#sk-container-id-2 div.sk-estimator:hover {background-color: #d4ebff;}#sk-container-id-2 div.sk-parallel-item::after {content: \"\";width: 100%;border-bottom: 1px solid gray;flex-grow: 1;}#sk-container-id-2 div.sk-label:hover label.sk-toggleable__label {background-color: #d4ebff;}#sk-container-id-2 div.sk-serial::before {content: \"\";position: absolute;border-left: 1px solid gray;box-sizing: border-box;top: 0;bottom: 0;left: 50%;z-index: 0;}#sk-container-id-2 div.sk-serial {display: flex;flex-direction: column;align-items: center;background-color: white;padding-right: 0.2em;padding-left: 0.2em;position: relative;}#sk-container-id-2 div.sk-item {position: relative;z-index: 1;}#sk-container-id-2 div.sk-parallel {display: flex;align-items: stretch;justify-content: center;background-color: white;position: relative;}#sk-container-id-2 div.sk-item::before, #sk-container-id-2 div.sk-parallel-item::before {content: \"\";position: absolute;border-left: 1px solid gray;box-sizing: border-box;top: 0;bottom: 0;left: 50%;z-index: -1;}#sk-container-id-2 div.sk-parallel-item {display: flex;flex-direction: column;z-index: 1;position: relative;background-color: white;}#sk-container-id-2 div.sk-parallel-item:first-child::after {align-self: flex-end;width: 50%;}#sk-container-id-2 div.sk-parallel-item:last-child::after {align-self: flex-start;width: 50%;}#sk-container-id-2 div.sk-parallel-item:only-child::after {width: 0;}#sk-container-id-2 div.sk-dashed-wrapped {border: 1px dashed gray;margin: 0 0.4em 0.5em 0.4em;box-sizing: border-box;padding-bottom: 0.4em;background-color: white;}#sk-container-id-2 div.sk-label label {font-family: monospace;font-weight: bold;display: inline-block;line-height: 1.2em;}#sk-container-id-2 div.sk-label-container {text-align: center;}#sk-container-id-2 div.sk-container {/* jupyter's `normalize.less` sets `[hidden] { display: none; }` but bootstrap.min.css set `[hidden] { display: none !important; }` so we also need the `!important` here to be able to override the default hidden behavior on the sphinx rendered scikit-learn.org. See: https://github.com/scikit-learn/scikit-learn/issues/21755 */display: inline-block !important;position: relative;}#sk-container-id-2 div.sk-text-repr-fallback {display: none;}</style><div id=\"sk-container-id-2\" class=\"sk-top-container\"><div class=\"sk-text-repr-fallback\"><pre>VotingClassifier(estimators=[(&#x27;RF&#x27;, RandomForestClassifier(random_state=42)),\n",
       "                             (&#x27;SVM&#x27;,\n",
       "                              Pipeline(steps=[(&#x27;standardscaler&#x27;,\n",
       "                                               StandardScaler()),\n",
       "                                              (&#x27;linearsvc&#x27;,\n",
       "                                               LinearSVC(random_state=42))])),\n",
       "                             (&#x27;GNB&#x27;, ExtraTreesClassifier()),\n",
       "                             (&#x27;Bagging&#x27;, BaggingClassifier()),\n",
       "                             (&#x27;Boosting&#x27;,\n",
       "                              GradientBoostingClassifier(learning_rate=1,\n",
       "                                                         max_depth=2,\n",
       "                                                         max_features=2,\n",
       "                                                         random_state=0))])</pre><b>In a Jupyter environment, please rerun this cell to show the HTML representation or trust the notebook. <br />On GitHub, the HTML representation is unable to render, please try loading this page with nbviewer.org.</b></div><div class=\"sk-container\" hidden><div class=\"sk-item sk-dashed-wrapped\"><div class=\"sk-label-container\"><div class=\"sk-label sk-toggleable\"><input class=\"sk-toggleable__control sk-hidden--visually\" id=\"sk-estimator-id-2\" type=\"checkbox\" ><label for=\"sk-estimator-id-2\" class=\"sk-toggleable__label sk-toggleable__label-arrow\">VotingClassifier</label><div class=\"sk-toggleable__content\"><pre>VotingClassifier(estimators=[(&#x27;RF&#x27;, RandomForestClassifier(random_state=42)),\n",
       "                             (&#x27;SVM&#x27;,\n",
       "                              Pipeline(steps=[(&#x27;standardscaler&#x27;,\n",
       "                                               StandardScaler()),\n",
       "                                              (&#x27;linearsvc&#x27;,\n",
       "                                               LinearSVC(random_state=42))])),\n",
       "                             (&#x27;GNB&#x27;, ExtraTreesClassifier()),\n",
       "                             (&#x27;Bagging&#x27;, BaggingClassifier()),\n",
       "                             (&#x27;Boosting&#x27;,\n",
       "                              GradientBoostingClassifier(learning_rate=1,\n",
       "                                                         max_depth=2,\n",
       "                                                         max_features=2,\n",
       "                                                         random_state=0))])</pre></div></div></div><div class=\"sk-parallel\"><div class=\"sk-parallel-item\"><div class=\"sk-item\"><div class=\"sk-label-container\"><div class=\"sk-label sk-toggleable\"><label>RF</label></div></div><div class=\"sk-serial\"><div class=\"sk-item\"><div class=\"sk-estimator sk-toggleable\"><input class=\"sk-toggleable__control sk-hidden--visually\" id=\"sk-estimator-id-3\" type=\"checkbox\" ><label for=\"sk-estimator-id-3\" class=\"sk-toggleable__label sk-toggleable__label-arrow\">RandomForestClassifier</label><div class=\"sk-toggleable__content\"><pre>RandomForestClassifier(random_state=42)</pre></div></div></div></div></div></div><div class=\"sk-parallel-item\"><div class=\"sk-item\"><div class=\"sk-label-container\"><div class=\"sk-label sk-toggleable\"><label>SVM</label></div></div><div class=\"sk-serial\"><div class=\"sk-item\"><div class=\"sk-serial\"><div class=\"sk-item\"><div class=\"sk-estimator sk-toggleable\"><input class=\"sk-toggleable__control sk-hidden--visually\" id=\"sk-estimator-id-4\" type=\"checkbox\" ><label for=\"sk-estimator-id-4\" class=\"sk-toggleable__label sk-toggleable__label-arrow\">StandardScaler</label><div class=\"sk-toggleable__content\"><pre>StandardScaler()</pre></div></div></div><div class=\"sk-item\"><div class=\"sk-estimator sk-toggleable\"><input class=\"sk-toggleable__control sk-hidden--visually\" id=\"sk-estimator-id-5\" type=\"checkbox\" ><label for=\"sk-estimator-id-5\" class=\"sk-toggleable__label sk-toggleable__label-arrow\">LinearSVC</label><div class=\"sk-toggleable__content\"><pre>LinearSVC(random_state=42)</pre></div></div></div></div></div></div></div></div><div class=\"sk-parallel-item\"><div class=\"sk-item\"><div class=\"sk-label-container\"><div class=\"sk-label sk-toggleable\"><label>GNB</label></div></div><div class=\"sk-serial\"><div class=\"sk-item\"><div class=\"sk-estimator sk-toggleable\"><input class=\"sk-toggleable__control sk-hidden--visually\" id=\"sk-estimator-id-6\" type=\"checkbox\" ><label for=\"sk-estimator-id-6\" class=\"sk-toggleable__label sk-toggleable__label-arrow\">ExtraTreesClassifier</label><div class=\"sk-toggleable__content\"><pre>ExtraTreesClassifier()</pre></div></div></div></div></div></div><div class=\"sk-parallel-item\"><div class=\"sk-item\"><div class=\"sk-label-container\"><div class=\"sk-label sk-toggleable\"><label>Bagging</label></div></div><div class=\"sk-serial\"><div class=\"sk-item\"><div class=\"sk-estimator sk-toggleable\"><input class=\"sk-toggleable__control sk-hidden--visually\" id=\"sk-estimator-id-7\" type=\"checkbox\" ><label for=\"sk-estimator-id-7\" class=\"sk-toggleable__label sk-toggleable__label-arrow\">BaggingClassifier</label><div class=\"sk-toggleable__content\"><pre>BaggingClassifier()</pre></div></div></div></div></div></div><div class=\"sk-parallel-item\"><div class=\"sk-item\"><div class=\"sk-label-container\"><div class=\"sk-label sk-toggleable\"><label>Boosting</label></div></div><div class=\"sk-serial\"><div class=\"sk-item\"><div class=\"sk-estimator sk-toggleable\"><input class=\"sk-toggleable__control sk-hidden--visually\" id=\"sk-estimator-id-8\" type=\"checkbox\" ><label for=\"sk-estimator-id-8\" class=\"sk-toggleable__label sk-toggleable__label-arrow\">GradientBoostingClassifier</label><div class=\"sk-toggleable__content\"><pre>GradientBoostingClassifier(learning_rate=1, max_depth=2, max_features=2,\n",
       "                           random_state=0)</pre></div></div></div></div></div></div></div></div></div></div>"
      ],
      "text/plain": [
       "VotingClassifier(estimators=[('RF', RandomForestClassifier(random_state=42)),\n",
       "                             ('SVM',\n",
       "                              Pipeline(steps=[('standardscaler',\n",
       "                                               StandardScaler()),\n",
       "                                              ('linearsvc',\n",
       "                                               LinearSVC(random_state=42))])),\n",
       "                             ('GNB', ExtraTreesClassifier()),\n",
       "                             ('Bagging', BaggingClassifier()),\n",
       "                             ('Boosting',\n",
       "                              GradientBoostingClassifier(learning_rate=1,\n",
       "                                                         max_depth=2,\n",
       "                                                         max_features=2,\n",
       "                                                         random_state=0))])"
      ]
     },
     "execution_count": 49,
     "metadata": {},
     "output_type": "execute_result"
    }
   ],
   "source": [
    "clf1=VotingClassifier(estimators=All_Models)\n",
    "clf1.fit(X_train,y_train)"
   ]
  },
  {
   "cell_type": "code",
   "execution_count": 50,
   "metadata": {},
   "outputs": [
    {
     "data": {
      "text/plain": [
       "0.9467574408658462"
      ]
     },
     "execution_count": 50,
     "metadata": {},
     "output_type": "execute_result"
    }
   ],
   "source": [
    "y_pred_clf1=clf1.predict(X_test)\n",
    "accuracy_score(y_test,y_pred_clf1)"
   ]
  },
  {
   "cell_type": "code",
   "execution_count": 52,
   "metadata": {},
   "outputs": [
    {
     "data": {
      "text/plain": [
       "['fit_time', 'score_time', 'test_f1_score', 'test_precision', 'test_recall']"
      ]
     },
     "execution_count": 52,
     "metadata": {},
     "output_type": "execute_result"
    }
   ],
   "source": [
    "score_clf1 = cross_validate(estimator = clf1, X = X_train, y = y_train, cv = 10,scoring=scoring)\n",
    "sorted(score_clf1.keys())\n"
   ]
  },
  {
   "cell_type": "code",
   "execution_count": 85,
   "metadata": {},
   "outputs": [
    {
     "name": "stdout",
     "output_type": "stream",
     "text": [
      "10-Folds F1-Score: Recall 0.902 (+/- 0.013) \n",
      "\n",
      "10-Folds F1-Score: f1_score 0.932 (+/- 0.007) \n",
      "\n",
      "              precision    recall  f1-score   support\n",
      "\n",
      "           0       0.94      0.97      0.95      6385\n",
      "           1       0.96      0.92      0.94      5072\n",
      "\n",
      "    accuracy                           0.95     11457\n",
      "   macro avg       0.95      0.94      0.95     11457\n",
      "weighted avg       0.95      0.95      0.95     11457\n",
      "\n"
     ]
    }
   ],
   "source": [
    "print(f\"10-Folds F1-Score: Recall %0.3f (+/- %0.3f)\" % (score_clf1['test_recall'].mean(), score_clf1['test_recall'].std() * 2),\"\\n\")\n",
    "print(f\"10-Folds F1-Score: f1_score %0.3f (+/- %0.3f)\" % (score_clf1['test_f1_score'].mean(), score_clf1['test_f1_score'].std() * 2),\"\\n\")\n",
    "print(classification_report(y_test, y_pred_clf1))\n"
   ]
  },
  {
   "cell_type": "code",
   "execution_count": 55,
   "metadata": {},
   "outputs": [
    {
     "data": {
      "image/png": "[encoded data removed]",
      "text/plain": [
       "<Figure size 576x432 with 2 Axes>"
      ]
     },
     "metadata": {
      "needs_background": "light"
     },
     "output_type": "display_data"
    }
   ],
   "source": [
    "cm1 = confusion_matrix(y_test, y_pred_clf1)\n",
    "plt.figure(figsize=(8,6))\n",
    "sns.heatmap(cm1, annot=True,fmt=\".1f\")\n",
    "plt.title('Confusion Matrix')\n",
    "plt.ylabel('Actal Values')\n",
    "plt.xlabel('Predicted Values')\n",
    "plt.show()"
   ]
  },
  {
   "cell_type": "code",
   "execution_count": 56,
   "metadata": {
    "id": "Sdobdr83DBNo",
    "outputId": "33c2e1b1-147d-4af9-f278-57cbbab9814e"
   },
   "outputs": [
    {
     "data": {
      "text/html": [
       "<style>#sk-container-id-3 {color: black;background-color: white;}#sk-container-id-3 pre{padding: 0;}#sk-container-id-3 div.sk-toggleable {background-color: white;}#sk-container-id-3 label.sk-toggleable__label {cursor: pointer;display: block;width: 100%;margin-bottom: 0;padding: 0.3em;box-sizing: border-box;text-align: center;}#sk-container-id-3 label.sk-toggleable__label-arrow:before {content: \"▸\";float: left;margin-right: 0.25em;color: #696969;}#sk-container-id-3 label.sk-toggleable__label-arrow:hover:before {color: black;}#sk-container-id-3 div.sk-estimator:hover label.sk-toggleable__label-arrow:before {color: black;}#sk-container-id-3 div.sk-toggleable__content {max-height: 0;max-width: 0;overflow: hidden;text-align: left;background-color: #f0f8ff;}#sk-container-id-3 div.sk-toggleable__content pre {margin: 0.2em;color: black;border-radius: 0.25em;background-color: #f0f8ff;}#sk-container-id-3 input.sk-toggleable__control:checked~div.sk-toggleable__content {max-height: 200px;max-width: 100%;overflow: auto;}#sk-container-id-3 input.sk-toggleable__control:checked~label.sk-toggleable__label-arrow:before {content: \"▾\";}#sk-container-id-3 div.sk-estimator input.sk-toggleable__control:checked~label.sk-toggleable__label {background-color: #d4ebff;}#sk-container-id-3 div.sk-label input.sk-toggleable__control:checked~label.sk-toggleable__label {background-color: #d4ebff;}#sk-container-id-3 input.sk-hidden--visually {border: 0;clip: rect(1px 1px 1px 1px);clip: rect(1px, 1px, 1px, 1px);height: 1px;margin: -1px;overflow: hidden;padding: 0;position: absolute;width: 1px;}#sk-container-id-3 div.sk-estimator {font-family: monospace;background-color: #f0f8ff;border: 1px dotted black;border-radius: 0.25em;box-sizing: border-box;margin-bottom: 0.5em;}#sk-container-id-3 div.sk-estimator:hover {background-color: #d4ebff;}#sk-container-id-3 div.sk-parallel-item::after {content: \"\";width: 100%;border-bottom: 1px solid gray;flex-grow: 1;}#sk-container-id-3 div.sk-label:hover label.sk-toggleable__label {background-color: #d4ebff;}#sk-container-id-3 div.sk-serial::before {content: \"\";position: absolute;border-left: 1px solid gray;box-sizing: border-box;top: 0;bottom: 0;left: 50%;z-index: 0;}#sk-container-id-3 div.sk-serial {display: flex;flex-direction: column;align-items: center;background-color: white;padding-right: 0.2em;padding-left: 0.2em;position: relative;}#sk-container-id-3 div.sk-item {position: relative;z-index: 1;}#sk-container-id-3 div.sk-parallel {display: flex;align-items: stretch;justify-content: center;background-color: white;position: relative;}#sk-container-id-3 div.sk-item::before, #sk-container-id-3 div.sk-parallel-item::before {content: \"\";position: absolute;border-left: 1px solid gray;box-sizing: border-box;top: 0;bottom: 0;left: 50%;z-index: -1;}#sk-container-id-3 div.sk-parallel-item {display: flex;flex-direction: column;z-index: 1;position: relative;background-color: white;}#sk-container-id-3 div.sk-parallel-item:first-child::after {align-self: flex-end;width: 50%;}#sk-container-id-3 div.sk-parallel-item:last-child::after {align-self: flex-start;width: 50%;}#sk-container-id-3 div.sk-parallel-item:only-child::after {width: 0;}#sk-container-id-3 div.sk-dashed-wrapped {border: 1px dashed gray;margin: 0 0.4em 0.5em 0.4em;box-sizing: border-box;padding-bottom: 0.4em;background-color: white;}#sk-container-id-3 div.sk-label label {font-family: monospace;font-weight: bold;display: inline-block;line-height: 1.2em;}#sk-container-id-3 div.sk-label-container {text-align: center;}#sk-container-id-3 div.sk-container {/* jupyter's `normalize.less` sets `[hidden] { display: none; }` but bootstrap.min.css set `[hidden] { display: none !important; }` so we also need the `!important` here to be able to override the default hidden behavior on the sphinx rendered scikit-learn.org. See: https://github.com/scikit-learn/scikit-learn/issues/21755 */display: inline-block !important;position: relative;}#sk-container-id-3 div.sk-text-repr-fallback {display: none;}</style><div id=\"sk-container-id-3\" class=\"sk-top-container\"><div class=\"sk-text-repr-fallback\"><pre>StackingClassifier(estimators=[(&#x27;RF&#x27;, RandomForestClassifier(random_state=42)),\n",
       "                               (&#x27;SVM&#x27;,\n",
       "                                Pipeline(steps=[(&#x27;standardscaler&#x27;,\n",
       "                                                 StandardScaler()),\n",
       "                                                (&#x27;linearsvc&#x27;,\n",
       "                                                 LinearSVC(random_state=42))])),\n",
       "                               (&#x27;GNB&#x27;, ExtraTreesClassifier()),\n",
       "                               (&#x27;Bagging&#x27;, BaggingClassifier()),\n",
       "                               (&#x27;Boosting&#x27;,\n",
       "                                GradientBoostingClassifier(learning_rate=1,\n",
       "                                                           max_depth=2,\n",
       "                                                           max_features=2,\n",
       "                                                           random_state=0))],\n",
       "                   final_estimator=LogisticRegression())</pre><b>In a Jupyter environment, please rerun this cell to show the HTML representation or trust the notebook. <br />On GitHub, the HTML representation is unable to render, please try loading this page with nbviewer.org.</b></div><div class=\"sk-container\" hidden><div class=\"sk-item sk-dashed-wrapped\"><div class=\"sk-label-container\"><div class=\"sk-label sk-toggleable\"><input class=\"sk-toggleable__control sk-hidden--visually\" id=\"sk-estimator-id-9\" type=\"checkbox\" ><label for=\"sk-estimator-id-9\" class=\"sk-toggleable__label sk-toggleable__label-arrow\">StackingClassifier</label><div class=\"sk-toggleable__content\"><pre>StackingClassifier(estimators=[(&#x27;RF&#x27;, RandomForestClassifier(random_state=42)),\n",
       "                               (&#x27;SVM&#x27;,\n",
       "                                Pipeline(steps=[(&#x27;standardscaler&#x27;,\n",
       "                                                 StandardScaler()),\n",
       "                                                (&#x27;linearsvc&#x27;,\n",
       "                                                 LinearSVC(random_state=42))])),\n",
       "                               (&#x27;GNB&#x27;, ExtraTreesClassifier()),\n",
       "                               (&#x27;Bagging&#x27;, BaggingClassifier()),\n",
       "                               (&#x27;Boosting&#x27;,\n",
       "                                GradientBoostingClassifier(learning_rate=1,\n",
       "                                                           max_depth=2,\n",
       "                                                           max_features=2,\n",
       "                                                           random_state=0))],\n",
       "                   final_estimator=LogisticRegression())</pre></div></div></div><div class=\"sk-serial\"><div class=\"sk-item\"><div class=\"sk-parallel\"><div class=\"sk-parallel-item\"><div class=\"sk-item\"><div class=\"sk-label-container\"><div class=\"sk-label sk-toggleable\"><label>RF</label></div></div><div class=\"sk-serial\"><div class=\"sk-item\"><div class=\"sk-estimator sk-toggleable\"><input class=\"sk-toggleable__control sk-hidden--visually\" id=\"sk-estimator-id-10\" type=\"checkbox\" ><label for=\"sk-estimator-id-10\" class=\"sk-toggleable__label sk-toggleable__label-arrow\">RandomForestClassifier</label><div class=\"sk-toggleable__content\"><pre>RandomForestClassifier(random_state=42)</pre></div></div></div></div></div></div><div class=\"sk-parallel-item\"><div class=\"sk-item\"><div class=\"sk-label-container\"><div class=\"sk-label sk-toggleable\"><label>SVM</label></div></div><div class=\"sk-serial\"><div class=\"sk-item\"><div class=\"sk-serial\"><div class=\"sk-item\"><div class=\"sk-estimator sk-toggleable\"><input class=\"sk-toggleable__control sk-hidden--visually\" id=\"sk-estimator-id-11\" type=\"checkbox\" ><label for=\"sk-estimator-id-11\" class=\"sk-toggleable__label sk-toggleable__label-arrow\">StandardScaler</label><div class=\"sk-toggleable__content\"><pre>StandardScaler()</pre></div></div></div><div class=\"sk-item\"><div class=\"sk-estimator sk-toggleable\"><input class=\"sk-toggleable__control sk-hidden--visually\" id=\"sk-estimator-id-12\" type=\"checkbox\" ><label for=\"sk-estimator-id-12\" class=\"sk-toggleable__label sk-toggleable__label-arrow\">LinearSVC</label><div class=\"sk-toggleable__content\"><pre>LinearSVC(random_state=42)</pre></div></div></div></div></div></div></div></div><div class=\"sk-parallel-item\"><div class=\"sk-item\"><div class=\"sk-label-container\"><div class=\"sk-label sk-toggleable\"><label>GNB</label></div></div><div class=\"sk-serial\"><div class=\"sk-item\"><div class=\"sk-estimator sk-toggleable\"><input class=\"sk-toggleable__control sk-hidden--visually\" id=\"sk-estimator-id-13\" type=\"checkbox\" ><label for=\"sk-estimator-id-13\" class=\"sk-toggleable__label sk-toggleable__label-arrow\">ExtraTreesClassifier</label><div class=\"sk-toggleable__content\"><pre>ExtraTreesClassifier()</pre></div></div></div></div></div></div><div class=\"sk-parallel-item\"><div class=\"sk-item\"><div class=\"sk-label-container\"><div class=\"sk-label sk-toggleable\"><label>Bagging</label></div></div><div class=\"sk-serial\"><div class=\"sk-item\"><div class=\"sk-estimator sk-toggleable\"><input class=\"sk-toggleable__control sk-hidden--visually\" id=\"sk-estimator-id-14\" type=\"checkbox\" ><label for=\"sk-estimator-id-14\" class=\"sk-toggleable__label sk-toggleable__label-arrow\">BaggingClassifier</label><div class=\"sk-toggleable__content\"><pre>BaggingClassifier()</pre></div></div></div></div></div></div><div class=\"sk-parallel-item\"><div class=\"sk-item\"><div class=\"sk-label-container\"><div class=\"sk-label sk-toggleable\"><label>Boosting</label></div></div><div class=\"sk-serial\"><div class=\"sk-item\"><div class=\"sk-estimator sk-toggleable\"><input class=\"sk-toggleable__control sk-hidden--visually\" id=\"sk-estimator-id-15\" type=\"checkbox\" ><label for=\"sk-estimator-id-15\" class=\"sk-toggleable__label sk-toggleable__label-arrow\">GradientBoostingClassifier</label><div class=\"sk-toggleable__content\"><pre>GradientBoostingClassifier(learning_rate=1, max_depth=2, max_features=2,\n",
       "                           random_state=0)</pre></div></div></div></div></div></div></div></div><div class=\"sk-item\"><div class=\"sk-parallel\"><div class=\"sk-parallel-item\"><div class=\"sk-item\"><div class=\"sk-label-container\"><div class=\"sk-label sk-toggleable\"><label>final_estimator</label></div></div><div class=\"sk-serial\"><div class=\"sk-item\"><div class=\"sk-estimator sk-toggleable\"><input class=\"sk-toggleable__control sk-hidden--visually\" id=\"sk-estimator-id-16\" type=\"checkbox\" ><label for=\"sk-estimator-id-16\" class=\"sk-toggleable__label sk-toggleable__label-arrow\">LogisticRegression</label><div class=\"sk-toggleable__content\"><pre>LogisticRegression()</pre></div></div></div></div></div></div></div></div></div></div></div></div>"
      ],
      "text/plain": [
       "StackingClassifier(estimators=[('RF', RandomForestClassifier(random_state=42)),\n",
       "                               ('SVM',\n",
       "                                Pipeline(steps=[('standardscaler',\n",
       "                                                 StandardScaler()),\n",
       "                                                ('linearsvc',\n",
       "                                                 LinearSVC(random_state=42))])),\n",
       "                               ('GNB', ExtraTreesClassifier()),\n",
       "                               ('Bagging', BaggingClassifier()),\n",
       "                               ('Boosting',\n",
       "                                GradientBoostingClassifier(learning_rate=1,\n",
       "                                                           max_depth=2,\n",
       "                                                           max_features=2,\n",
       "                                                           random_state=0))],\n",
       "                   final_estimator=LogisticRegression())"
      ]
     },
     "execution_count": 56,
     "metadata": {},
     "output_type": "execute_result"
    }
   ],
   "source": [
    "clf2 = StackingClassifier(estimators=All_Models, final_estimator=LogisticRegression())\n",
    "clf2.fit(X_train, y_train)"
   ]
  },
  {
   "cell_type": "code",
   "execution_count": 57,
   "metadata": {
    "id": "pVYmbbWHDBNp",
    "outputId": "3fc6d99b-795b-4fe5-aa10-2eeabced2c0a"
   },
   "outputs": [
    {
     "data": {
      "text/plain": [
       "0.9482412498908964"
      ]
     },
     "execution_count": 57,
     "metadata": {},
     "output_type": "execute_result"
    }
   ],
   "source": [
    "y_pred_clf2=clf2.predict(X_test)\n",
    "accuracy_score(y_test, y_pred_clf2)"
   ]
  },
  {
   "cell_type": "code",
   "execution_count": 59,
   "metadata": {
    "id": "muIWRK2PDBNp",
    "outputId": "7f7a6741-fb49-4411-818e-5cdb1c2a4558"
   },
   "outputs": [
    {
     "data": {
      "text/plain": [
       "['fit_time', 'score_time', 'test_f1_score', 'test_precision', 'test_recall']"
      ]
     },
     "execution_count": 59,
     "metadata": {},
     "output_type": "execute_result"
    }
   ],
   "source": [
    "score_clf2 = cross_validate(estimator = clf2, X = X_train, y = y_train, cv = 10,scoring=scoring)\n",
    "sorted(score_clf2.keys())\n"
   ]
  },
  {
   "cell_type": "code",
   "execution_count": 87,
   "metadata": {},
   "outputs": [
    {
     "name": "stdout",
     "output_type": "stream",
     "text": [
      "10-Folds F1-Score: Recall 0.911 (+/- 0.012) \n",
      "\n",
      "10-Folds F1-Score: f1_score 0.935 (+/- 0.008) \n",
      "\n",
      "              precision    recall  f1-score   support\n",
      "\n",
      "           0       0.94      0.97      0.95      6385\n",
      "           1       0.96      0.92      0.94      5072\n",
      "\n",
      "    accuracy                           0.95     11457\n",
      "   macro avg       0.95      0.95      0.95     11457\n",
      "weighted avg       0.95      0.95      0.95     11457\n",
      "\n"
     ]
    }
   ],
   "source": [
    "print(f\"10-Folds F1-Score: Recall %0.3f (+/- %0.3f)\" % (score_clf2['test_recall'].mean(), score_clf2['test_recall'].std() * 2),\"\\n\")\n",
    "print(f\"10-Folds F1-Score: f1_score %0.3f (+/- %0.3f)\" % (score_clf2['test_f1_score'].mean(), score_clf2['test_f1_score'].std() * 2),\"\\n\")\n",
    "print(classification_report(y_test, y_pred_clf2))"
   ]
  },
  {
   "cell_type": "code",
   "execution_count": 61,
   "metadata": {
    "id": "FBikx0kKDBNp",
    "outputId": "d2c37ec8-9cc6-4663-b7f6-a0d61806a42c"
   },
   "outputs": [
    {
     "data": {
      "image/png": "[encoded data removed]",
      "text/plain": [
       "<Figure size 576x432 with 2 Axes>"
      ]
     },
     "metadata": {
      "needs_background": "light"
     },
     "output_type": "display_data"
    }
   ],
   "source": [
    "cm = confusion_matrix(y_test, y_pred_clf2)\n",
    "plt.figure(figsize=(8,6))\n",
    "sns.heatmap(cm, annot=True,fmt=\".1f\")\n",
    "plt.title('Confusion Matrix')\n",
    "plt.ylabel('Actal Values')\n",
    "plt.xlabel('Predicted Values')\n",
    "plt.show()"
   ]
  },
  {
   "cell_type": "markdown",
   "metadata": {
    "id": "LGwfgGA_DBNq"
   },
   "source": [
    "## KNN"
   ]
  },
  {
   "cell_type": "code",
   "execution_count": 62,
   "metadata": {},
   "outputs": [],
   "source": [
    "knn = KNeighborsClassifier(n_neighbors=2)\n",
    "knn.fit(X_train, y_train)\n",
    "y_pred_knn = knn.predict(X_test)"
   ]
  },
  {
   "cell_type": "code",
   "execution_count": 63,
   "metadata": {},
   "outputs": [
    {
     "data": {
      "text/plain": [
       "array([0, 1, 0, ..., 1, 1, 1], dtype=int64)"
      ]
     },
     "execution_count": 63,
     "metadata": {},
     "output_type": "execute_result"
    }
   ],
   "source": [
    "y_pred_knn"
   ]
  },
  {
   "cell_type": "code",
   "execution_count": 64,
   "metadata": {},
   "outputs": [
    {
     "data": {
      "text/plain": [
       "0.9512961508248232"
      ]
     },
     "execution_count": 64,
     "metadata": {},
     "output_type": "execute_result"
    }
   ],
   "source": [
    "accuracy_score(y_test,y_pred_knn)"
   ]
  },
  {
   "cell_type": "code",
   "execution_count": 65,
   "metadata": {},
   "outputs": [
    {
     "name": "stdout",
     "output_type": "stream",
     "text": [
      "Training set score: 0.9686\n",
      "Test set score: 0.9513\n"
     ]
    }
   ],
   "source": [
    "print('Training set score: {:.4f}'.format(knn.score(X_train, y_train)))\n",
    "\n",
    "print('Test set score: {:.4f}'.format(knn.score(X_test, y_test)))"
   ]
  },
  {
   "cell_type": "code",
   "execution_count": 66,
   "metadata": {},
   "outputs": [
    {
     "data": {
      "text/plain": [
       "['fit_time', 'score_time', 'test_f1_score', 'test_precision', 'test_recall']"
      ]
     },
     "execution_count": 66,
     "metadata": {},
     "output_type": "execute_result"
    }
   ],
   "source": [
    "score_knn = cross_validate(estimator =knn, X = X_train, y = y_train, cv = 10,scoring=scoring)\n",
    "sorted(score_knn.keys())\n"
   ]
  },
  {
   "cell_type": "code",
   "execution_count": 89,
   "metadata": {},
   "outputs": [
    {
     "name": "stdout",
     "output_type": "stream",
     "text": [
      "10-Folds F1-Score: Recall 0.894 (+/- 0.010) \n",
      "\n",
      "10-Folds F1-Score: f1_score 0.935 (+/- 0.006) \n",
      "\n",
      "              precision    recall  f1-score   support\n",
      "\n",
      "           0       0.93      0.99      0.96      6385\n",
      "           1       0.98      0.91      0.94      5072\n",
      "\n",
      "    accuracy                           0.95     11457\n",
      "   macro avg       0.96      0.95      0.95     11457\n",
      "weighted avg       0.95      0.95      0.95     11457\n",
      "\n"
     ]
    }
   ],
   "source": [
    "print(f\"10-Folds F1-Score: Recall %0.3f (+/- %0.3f)\" % (score_knn['test_recall'].mean(), score_knn['test_recall'].std() * 2),\"\\n\")\n",
    "print(f\"10-Folds F1-Score: f1_score %0.3f (+/- %0.3f)\" % (score_knn['test_f1_score'].mean(), score_knn['test_f1_score'].std() * 2),\"\\n\")\n",
    "print(classification_report(y_test, y_pred_knn))"
   ]
  },
  {
   "cell_type": "code",
   "execution_count": 68,
   "metadata": {},
   "outputs": [
    {
     "data": {
      "image/png": "[encoded data removed]",
      "text/plain": [
       "<Figure size 576x432 with 2 Axes>"
      ]
     },
     "metadata": {
      "needs_background": "light"
     },
     "output_type": "display_data"
    }
   ],
   "source": [
    "cm = confusion_matrix(y_test, y_pred_knn)\n",
    "plt.figure(figsize=(8,6))\n",
    "sns.heatmap(cm, annot=True,fmt=\".1f\")\n",
    "plt.title('Confusion Matrix')\n",
    "plt.ylabel('Actal Values')\n",
    "plt.xlabel('Predicted Values')\n",
    "plt.show()"
   ]
  },
  {
   "cell_type": "code",
   "execution_count": null,
   "metadata": {},
   "outputs": [],
   "source": []
  }
 ],
 "metadata": {
  "colab": {
   "provenance": []
  },
  "kernelspec": {
   "display_name": "Python 3 (ipykernel)",
   "language": "python",
   "name": "python3"
  },
  "language_info": {
   "codemirror_mode": {
    "name": "ipython",
    "version": 3
   },
   "file_extension": ".py",
   "mimetype": "text/x-python",
   "name": "python",
   "nbconvert_exporter": "python",
   "pygments_lexer": "ipython3",
   "version": "3.9.7"
  }
 },
 "nbformat": 4,
 "nbformat_minor": 1
}
